{
 "cells": [
  {
   "cell_type": "markdown",
   "id": "d386d267",
   "metadata": {},
   "source": [
    "# Analysis \n",
    "Analysis of the data has yielded the following conclusions:\n",
    "\n",
    "Both Capomulin and Ramicane show mice with significantly smaller tumor sizes as compared to other drugs; the high whiskers of their box plots are compareable to the low whiskers of the other 2 drugs analyzed.\n",
    "\n",
    "The tumor volume for mouse L509 (Capomulin) went down significantly after timepoint 20, however, began to increase ~ timepoint 35. More individual mice taking Capomulin will have to be analyzed to see if this is a common occourance. If this is the case, it might imply resistance to treatment over time. \n",
    "\n",
    "Tumor volume of mice on Capomulin has a strong direct correlation with weight with a correlation coefficient of 0.84. This implies Capomulin treatments less effective on heavier subjects. Potentially increasing dosage for larger subjects. \n",
    "\n",
    "Capomulin shows promising results; however, further testing will be needed to before considering bringing the drug to clinical trials"
   ]
  },
  {
   "cell_type": "code",
   "execution_count": 50,
   "id": "525899d0",
   "metadata": {},
   "outputs": [],
   "source": [
    "# Dependencies and Setup\n",
    "import matplotlib.pyplot as plt\n",
    "import pandas as pd\n",
    "import scipy.stats as st\n",
    "import numpy as np\n",
    "from scipy.stats import linregress, pearsonr, spearmanr\n",
    "\n",
    "# Read the mouse data and the study results\n",
    "mouse_metadata = pd.read_csv(\"Resources/Mouse_metadata.csv\")\n",
    "study_results = pd.read_csv(\"Resources/Study_results.csv\")\n",
    "\n"
   ]
  },
  {
   "cell_type": "code",
   "execution_count": 51,
   "id": "9cfabbc5",
   "metadata": {},
   "outputs": [],
   "source": [
    "mouse_data=pd.merge(mouse_metadata,study_results,how = \"inner\", on = \"Mouse ID\")"
   ]
  },
  {
   "cell_type": "code",
   "execution_count": 52,
   "id": "f668ee64",
   "metadata": {},
   "outputs": [
    {
     "data": {
      "text/plain": [
       "249"
      ]
     },
     "execution_count": 52,
     "metadata": {},
     "output_type": "execute_result"
    }
   ],
   "source": [
    "len(mouse_data[\"Mouse ID\"].unique())"
   ]
  },
  {
   "cell_type": "code",
   "execution_count": 53,
   "id": "acfc9e9c",
   "metadata": {},
   "outputs": [
    {
     "data": {
      "text/html": [
       "<div>\n",
       "<style scoped>\n",
       "    .dataframe tbody tr th:only-of-type {\n",
       "        vertical-align: middle;\n",
       "    }\n",
       "\n",
       "    .dataframe tbody tr th {\n",
       "        vertical-align: top;\n",
       "    }\n",
       "\n",
       "    .dataframe thead th {\n",
       "        text-align: right;\n",
       "    }\n",
       "</style>\n",
       "<table border=\"1\" class=\"dataframe\">\n",
       "  <thead>\n",
       "    <tr style=\"text-align: right;\">\n",
       "      <th></th>\n",
       "      <th>Mouse ID</th>\n",
       "      <th>Drug Regimen</th>\n",
       "      <th>Sex</th>\n",
       "      <th>Age_months</th>\n",
       "      <th>Weight (g)</th>\n",
       "      <th>Timepoint</th>\n",
       "      <th>Tumor Volume (mm3)</th>\n",
       "      <th>Metastatic Sites</th>\n",
       "    </tr>\n",
       "  </thead>\n",
       "  <tbody>\n",
       "    <tr>\n",
       "      <th>0</th>\n",
       "      <td>k403</td>\n",
       "      <td>Ramicane</td>\n",
       "      <td>Male</td>\n",
       "      <td>21</td>\n",
       "      <td>16</td>\n",
       "      <td>0</td>\n",
       "      <td>45.000000</td>\n",
       "      <td>0</td>\n",
       "    </tr>\n",
       "    <tr>\n",
       "      <th>1</th>\n",
       "      <td>k403</td>\n",
       "      <td>Ramicane</td>\n",
       "      <td>Male</td>\n",
       "      <td>21</td>\n",
       "      <td>16</td>\n",
       "      <td>5</td>\n",
       "      <td>38.825898</td>\n",
       "      <td>0</td>\n",
       "    </tr>\n",
       "    <tr>\n",
       "      <th>2</th>\n",
       "      <td>k403</td>\n",
       "      <td>Ramicane</td>\n",
       "      <td>Male</td>\n",
       "      <td>21</td>\n",
       "      <td>16</td>\n",
       "      <td>10</td>\n",
       "      <td>35.014271</td>\n",
       "      <td>1</td>\n",
       "    </tr>\n",
       "    <tr>\n",
       "      <th>3</th>\n",
       "      <td>k403</td>\n",
       "      <td>Ramicane</td>\n",
       "      <td>Male</td>\n",
       "      <td>21</td>\n",
       "      <td>16</td>\n",
       "      <td>15</td>\n",
       "      <td>34.223992</td>\n",
       "      <td>1</td>\n",
       "    </tr>\n",
       "    <tr>\n",
       "      <th>4</th>\n",
       "      <td>k403</td>\n",
       "      <td>Ramicane</td>\n",
       "      <td>Male</td>\n",
       "      <td>21</td>\n",
       "      <td>16</td>\n",
       "      <td>20</td>\n",
       "      <td>32.997729</td>\n",
       "      <td>1</td>\n",
       "    </tr>\n",
       "    <tr>\n",
       "      <th>...</th>\n",
       "      <td>...</td>\n",
       "      <td>...</td>\n",
       "      <td>...</td>\n",
       "      <td>...</td>\n",
       "      <td>...</td>\n",
       "      <td>...</td>\n",
       "      <td>...</td>\n",
       "      <td>...</td>\n",
       "    </tr>\n",
       "    <tr>\n",
       "      <th>1888</th>\n",
       "      <td>z969</td>\n",
       "      <td>Naftisol</td>\n",
       "      <td>Male</td>\n",
       "      <td>9</td>\n",
       "      <td>30</td>\n",
       "      <td>25</td>\n",
       "      <td>63.145652</td>\n",
       "      <td>2</td>\n",
       "    </tr>\n",
       "    <tr>\n",
       "      <th>1889</th>\n",
       "      <td>z969</td>\n",
       "      <td>Naftisol</td>\n",
       "      <td>Male</td>\n",
       "      <td>9</td>\n",
       "      <td>30</td>\n",
       "      <td>30</td>\n",
       "      <td>65.841013</td>\n",
       "      <td>3</td>\n",
       "    </tr>\n",
       "    <tr>\n",
       "      <th>1890</th>\n",
       "      <td>z969</td>\n",
       "      <td>Naftisol</td>\n",
       "      <td>Male</td>\n",
       "      <td>9</td>\n",
       "      <td>30</td>\n",
       "      <td>35</td>\n",
       "      <td>69.176246</td>\n",
       "      <td>4</td>\n",
       "    </tr>\n",
       "    <tr>\n",
       "      <th>1891</th>\n",
       "      <td>z969</td>\n",
       "      <td>Naftisol</td>\n",
       "      <td>Male</td>\n",
       "      <td>9</td>\n",
       "      <td>30</td>\n",
       "      <td>40</td>\n",
       "      <td>70.314904</td>\n",
       "      <td>4</td>\n",
       "    </tr>\n",
       "    <tr>\n",
       "      <th>1892</th>\n",
       "      <td>z969</td>\n",
       "      <td>Naftisol</td>\n",
       "      <td>Male</td>\n",
       "      <td>9</td>\n",
       "      <td>30</td>\n",
       "      <td>45</td>\n",
       "      <td>73.867845</td>\n",
       "      <td>4</td>\n",
       "    </tr>\n",
       "  </tbody>\n",
       "</table>\n",
       "<p>1893 rows × 8 columns</p>\n",
       "</div>"
      ],
      "text/plain": [
       "     Mouse ID Drug Regimen   Sex  Age_months  Weight (g)  Timepoint  \\\n",
       "0        k403     Ramicane  Male          21          16          0   \n",
       "1        k403     Ramicane  Male          21          16          5   \n",
       "2        k403     Ramicane  Male          21          16         10   \n",
       "3        k403     Ramicane  Male          21          16         15   \n",
       "4        k403     Ramicane  Male          21          16         20   \n",
       "...       ...          ...   ...         ...         ...        ...   \n",
       "1888     z969     Naftisol  Male           9          30         25   \n",
       "1889     z969     Naftisol  Male           9          30         30   \n",
       "1890     z969     Naftisol  Male           9          30         35   \n",
       "1891     z969     Naftisol  Male           9          30         40   \n",
       "1892     z969     Naftisol  Male           9          30         45   \n",
       "\n",
       "      Tumor Volume (mm3)  Metastatic Sites  \n",
       "0              45.000000                 0  \n",
       "1              38.825898                 0  \n",
       "2              35.014271                 1  \n",
       "3              34.223992                 1  \n",
       "4              32.997729                 1  \n",
       "...                  ...               ...  \n",
       "1888           63.145652                 2  \n",
       "1889           65.841013                 3  \n",
       "1890           69.176246                 4  \n",
       "1891           70.314904                 4  \n",
       "1892           73.867845                 4  \n",
       "\n",
       "[1893 rows x 8 columns]"
      ]
     },
     "execution_count": 53,
     "metadata": {},
     "output_type": "execute_result"
    }
   ],
   "source": [
    "mouse_data"
   ]
  },
  {
   "cell_type": "code",
   "execution_count": 54,
   "id": "89a7689e",
   "metadata": {},
   "outputs": [],
   "source": [
    "mouse_data_duplicates = mouse_data[mouse_data.duplicated(subset=[\"Mouse ID\", \"Timepoint\"], keep = False)][\"Mouse ID\"].unique() # Requires a subset to pull unique timepoints\n",
    "# finding duplicated data\n",
    "\n",
    "mouse_data = mouse_data[~mouse_data[\"Mouse ID\"].isin(mouse_data_duplicates)]\n",
    "\n",
    "#Find \"Not\" duplicated data in dataset \"mousedata\" by removing the data in Mouse ID that appear in duplicated data"
   ]
  },
  {
   "cell_type": "code",
   "execution_count": 55,
   "id": "6632887b",
   "metadata": {},
   "outputs": [
    {
     "data": {
      "text/plain": [
       "array(['g989'], dtype=object)"
      ]
     },
     "execution_count": 55,
     "metadata": {},
     "output_type": "execute_result"
    }
   ],
   "source": [
    "mouse_data_duplicates\n"
   ]
  },
  {
   "cell_type": "code",
   "execution_count": 56,
   "id": "32864716",
   "metadata": {},
   "outputs": [
    {
     "data": {
      "text/plain": [
       "248"
      ]
     },
     "execution_count": 56,
     "metadata": {},
     "output_type": "execute_result"
    }
   ],
   "source": [
    "len(mouse_data[\"Mouse ID\"].unique())"
   ]
  },
  {
   "cell_type": "code",
   "execution_count": 57,
   "id": "73c54b5c",
   "metadata": {},
   "outputs": [
    {
     "data": {
      "text/html": [
       "<div>\n",
       "<style scoped>\n",
       "    .dataframe tbody tr th:only-of-type {\n",
       "        vertical-align: middle;\n",
       "    }\n",
       "\n",
       "    .dataframe tbody tr th {\n",
       "        vertical-align: top;\n",
       "    }\n",
       "\n",
       "    .dataframe thead th {\n",
       "        text-align: right;\n",
       "    }\n",
       "</style>\n",
       "<table border=\"1\" class=\"dataframe\">\n",
       "  <thead>\n",
       "    <tr style=\"text-align: right;\">\n",
       "      <th></th>\n",
       "      <th>Mouse ID</th>\n",
       "      <th>Drug Regimen</th>\n",
       "      <th>Sex</th>\n",
       "      <th>Age_months</th>\n",
       "      <th>Weight (g)</th>\n",
       "      <th>Timepoint</th>\n",
       "      <th>Tumor Volume (mm3)</th>\n",
       "      <th>Metastatic Sites</th>\n",
       "    </tr>\n",
       "  </thead>\n",
       "  <tbody>\n",
       "    <tr>\n",
       "      <th>0</th>\n",
       "      <td>k403</td>\n",
       "      <td>Ramicane</td>\n",
       "      <td>Male</td>\n",
       "      <td>21</td>\n",
       "      <td>16</td>\n",
       "      <td>0</td>\n",
       "      <td>45.000000</td>\n",
       "      <td>0</td>\n",
       "    </tr>\n",
       "    <tr>\n",
       "      <th>1</th>\n",
       "      <td>k403</td>\n",
       "      <td>Ramicane</td>\n",
       "      <td>Male</td>\n",
       "      <td>21</td>\n",
       "      <td>16</td>\n",
       "      <td>5</td>\n",
       "      <td>38.825898</td>\n",
       "      <td>0</td>\n",
       "    </tr>\n",
       "    <tr>\n",
       "      <th>2</th>\n",
       "      <td>k403</td>\n",
       "      <td>Ramicane</td>\n",
       "      <td>Male</td>\n",
       "      <td>21</td>\n",
       "      <td>16</td>\n",
       "      <td>10</td>\n",
       "      <td>35.014271</td>\n",
       "      <td>1</td>\n",
       "    </tr>\n",
       "    <tr>\n",
       "      <th>3</th>\n",
       "      <td>k403</td>\n",
       "      <td>Ramicane</td>\n",
       "      <td>Male</td>\n",
       "      <td>21</td>\n",
       "      <td>16</td>\n",
       "      <td>15</td>\n",
       "      <td>34.223992</td>\n",
       "      <td>1</td>\n",
       "    </tr>\n",
       "    <tr>\n",
       "      <th>4</th>\n",
       "      <td>k403</td>\n",
       "      <td>Ramicane</td>\n",
       "      <td>Male</td>\n",
       "      <td>21</td>\n",
       "      <td>16</td>\n",
       "      <td>20</td>\n",
       "      <td>32.997729</td>\n",
       "      <td>1</td>\n",
       "    </tr>\n",
       "    <tr>\n",
       "      <th>...</th>\n",
       "      <td>...</td>\n",
       "      <td>...</td>\n",
       "      <td>...</td>\n",
       "      <td>...</td>\n",
       "      <td>...</td>\n",
       "      <td>...</td>\n",
       "      <td>...</td>\n",
       "      <td>...</td>\n",
       "    </tr>\n",
       "    <tr>\n",
       "      <th>1888</th>\n",
       "      <td>z969</td>\n",
       "      <td>Naftisol</td>\n",
       "      <td>Male</td>\n",
       "      <td>9</td>\n",
       "      <td>30</td>\n",
       "      <td>25</td>\n",
       "      <td>63.145652</td>\n",
       "      <td>2</td>\n",
       "    </tr>\n",
       "    <tr>\n",
       "      <th>1889</th>\n",
       "      <td>z969</td>\n",
       "      <td>Naftisol</td>\n",
       "      <td>Male</td>\n",
       "      <td>9</td>\n",
       "      <td>30</td>\n",
       "      <td>30</td>\n",
       "      <td>65.841013</td>\n",
       "      <td>3</td>\n",
       "    </tr>\n",
       "    <tr>\n",
       "      <th>1890</th>\n",
       "      <td>z969</td>\n",
       "      <td>Naftisol</td>\n",
       "      <td>Male</td>\n",
       "      <td>9</td>\n",
       "      <td>30</td>\n",
       "      <td>35</td>\n",
       "      <td>69.176246</td>\n",
       "      <td>4</td>\n",
       "    </tr>\n",
       "    <tr>\n",
       "      <th>1891</th>\n",
       "      <td>z969</td>\n",
       "      <td>Naftisol</td>\n",
       "      <td>Male</td>\n",
       "      <td>9</td>\n",
       "      <td>30</td>\n",
       "      <td>40</td>\n",
       "      <td>70.314904</td>\n",
       "      <td>4</td>\n",
       "    </tr>\n",
       "    <tr>\n",
       "      <th>1892</th>\n",
       "      <td>z969</td>\n",
       "      <td>Naftisol</td>\n",
       "      <td>Male</td>\n",
       "      <td>9</td>\n",
       "      <td>30</td>\n",
       "      <td>45</td>\n",
       "      <td>73.867845</td>\n",
       "      <td>4</td>\n",
       "    </tr>\n",
       "  </tbody>\n",
       "</table>\n",
       "<p>1880 rows × 8 columns</p>\n",
       "</div>"
      ],
      "text/plain": [
       "     Mouse ID Drug Regimen   Sex  Age_months  Weight (g)  Timepoint  \\\n",
       "0        k403     Ramicane  Male          21          16          0   \n",
       "1        k403     Ramicane  Male          21          16          5   \n",
       "2        k403     Ramicane  Male          21          16         10   \n",
       "3        k403     Ramicane  Male          21          16         15   \n",
       "4        k403     Ramicane  Male          21          16         20   \n",
       "...       ...          ...   ...         ...         ...        ...   \n",
       "1888     z969     Naftisol  Male           9          30         25   \n",
       "1889     z969     Naftisol  Male           9          30         30   \n",
       "1890     z969     Naftisol  Male           9          30         35   \n",
       "1891     z969     Naftisol  Male           9          30         40   \n",
       "1892     z969     Naftisol  Male           9          30         45   \n",
       "\n",
       "      Tumor Volume (mm3)  Metastatic Sites  \n",
       "0              45.000000                 0  \n",
       "1              38.825898                 0  \n",
       "2              35.014271                 1  \n",
       "3              34.223992                 1  \n",
       "4              32.997729                 1  \n",
       "...                  ...               ...  \n",
       "1888           63.145652                 2  \n",
       "1889           65.841013                 3  \n",
       "1890           69.176246                 4  \n",
       "1891           70.314904                 4  \n",
       "1892           73.867845                 4  \n",
       "\n",
       "[1880 rows x 8 columns]"
      ]
     },
     "execution_count": 57,
     "metadata": {},
     "output_type": "execute_result"
    }
   ],
   "source": [
    "mouse_data"
   ]
  },
  {
   "cell_type": "code",
   "execution_count": 58,
   "id": "bac84c71",
   "metadata": {},
   "outputs": [
    {
     "data": {
      "text/html": [
       "<div>\n",
       "<style scoped>\n",
       "    .dataframe tbody tr th:only-of-type {\n",
       "        vertical-align: middle;\n",
       "    }\n",
       "\n",
       "    .dataframe tbody tr th {\n",
       "        vertical-align: top;\n",
       "    }\n",
       "\n",
       "    .dataframe thead th {\n",
       "        text-align: right;\n",
       "    }\n",
       "</style>\n",
       "<table border=\"1\" class=\"dataframe\">\n",
       "  <thead>\n",
       "    <tr style=\"text-align: right;\">\n",
       "      <th></th>\n",
       "      <th>Mean Vol</th>\n",
       "      <th>Median Vol</th>\n",
       "      <th>Vol Variance</th>\n",
       "      <th>Vol Stdev</th>\n",
       "      <th>Vol SEM</th>\n",
       "    </tr>\n",
       "    <tr>\n",
       "      <th>Drug Regimen</th>\n",
       "      <th></th>\n",
       "      <th></th>\n",
       "      <th></th>\n",
       "      <th></th>\n",
       "      <th></th>\n",
       "    </tr>\n",
       "  </thead>\n",
       "  <tbody>\n",
       "    <tr>\n",
       "      <th>Capomulin</th>\n",
       "      <td>40.675741</td>\n",
       "      <td>41.557809</td>\n",
       "      <td>24.947764</td>\n",
       "      <td>4.994774</td>\n",
       "      <td>0.329346</td>\n",
       "    </tr>\n",
       "    <tr>\n",
       "      <th>Ceftamin</th>\n",
       "      <td>52.591172</td>\n",
       "      <td>51.776157</td>\n",
       "      <td>39.290177</td>\n",
       "      <td>6.268188</td>\n",
       "      <td>0.469821</td>\n",
       "    </tr>\n",
       "    <tr>\n",
       "      <th>Infubinol</th>\n",
       "      <td>52.884795</td>\n",
       "      <td>51.820584</td>\n",
       "      <td>43.128684</td>\n",
       "      <td>6.567243</td>\n",
       "      <td>0.492236</td>\n",
       "    </tr>\n",
       "    <tr>\n",
       "      <th>Ketapril</th>\n",
       "      <td>55.235638</td>\n",
       "      <td>53.698743</td>\n",
       "      <td>68.553577</td>\n",
       "      <td>8.279709</td>\n",
       "      <td>0.603860</td>\n",
       "    </tr>\n",
       "    <tr>\n",
       "      <th>Naftisol</th>\n",
       "      <td>54.331565</td>\n",
       "      <td>52.509285</td>\n",
       "      <td>66.173479</td>\n",
       "      <td>8.134708</td>\n",
       "      <td>0.596466</td>\n",
       "    </tr>\n",
       "    <tr>\n",
       "      <th>Placebo</th>\n",
       "      <td>54.033581</td>\n",
       "      <td>52.288934</td>\n",
       "      <td>61.168083</td>\n",
       "      <td>7.821003</td>\n",
       "      <td>0.581331</td>\n",
       "    </tr>\n",
       "    <tr>\n",
       "      <th>Propriva</th>\n",
       "      <td>52.320930</td>\n",
       "      <td>50.446266</td>\n",
       "      <td>43.852013</td>\n",
       "      <td>6.622085</td>\n",
       "      <td>0.544332</td>\n",
       "    </tr>\n",
       "    <tr>\n",
       "      <th>Ramicane</th>\n",
       "      <td>40.216745</td>\n",
       "      <td>40.673236</td>\n",
       "      <td>23.486704</td>\n",
       "      <td>4.846308</td>\n",
       "      <td>0.320955</td>\n",
       "    </tr>\n",
       "    <tr>\n",
       "      <th>Stelasyn</th>\n",
       "      <td>54.233149</td>\n",
       "      <td>52.431737</td>\n",
       "      <td>59.450562</td>\n",
       "      <td>7.710419</td>\n",
       "      <td>0.573111</td>\n",
       "    </tr>\n",
       "    <tr>\n",
       "      <th>Zoniferol</th>\n",
       "      <td>53.236507</td>\n",
       "      <td>51.818479</td>\n",
       "      <td>48.533355</td>\n",
       "      <td>6.966589</td>\n",
       "      <td>0.516398</td>\n",
       "    </tr>\n",
       "  </tbody>\n",
       "</table>\n",
       "</div>"
      ],
      "text/plain": [
       "               Mean Vol  Median Vol  Vol Variance  Vol Stdev   Vol SEM\n",
       "Drug Regimen                                                          \n",
       "Capomulin     40.675741   41.557809     24.947764   4.994774  0.329346\n",
       "Ceftamin      52.591172   51.776157     39.290177   6.268188  0.469821\n",
       "Infubinol     52.884795   51.820584     43.128684   6.567243  0.492236\n",
       "Ketapril      55.235638   53.698743     68.553577   8.279709  0.603860\n",
       "Naftisol      54.331565   52.509285     66.173479   8.134708  0.596466\n",
       "Placebo       54.033581   52.288934     61.168083   7.821003  0.581331\n",
       "Propriva      52.320930   50.446266     43.852013   6.622085  0.544332\n",
       "Ramicane      40.216745   40.673236     23.486704   4.846308  0.320955\n",
       "Stelasyn      54.233149   52.431737     59.450562   7.710419  0.573111\n",
       "Zoniferol     53.236507   51.818479     48.533355   6.966589  0.516398"
      ]
     },
     "execution_count": 58,
     "metadata": {},
     "output_type": "execute_result"
    }
   ],
   "source": [
    "mouse_data_drug = mouse_data.copy()\n",
    "mouse_data_drug = mouse_data_drug.groupby([\"Drug Regimen\"])\n",
    "eval_list = []\n",
    "\n",
    "tumor_mean = mouse_data_drug['Tumor Volume (mm3)'].mean() #evaluating and adding to a list\n",
    "eval_list.append(tumor_mean)\n",
    "\n",
    "tumor_med = mouse_data_drug['Tumor Volume (mm3)'].median()\n",
    "eval_list.append(tumor_med)\n",
    "\n",
    "tumor_var = mouse_data_drug['Tumor Volume (mm3)'].var()\n",
    "eval_list.append(tumor_var)\n",
    "\n",
    "tumor_std = mouse_data_drug['Tumor Volume (mm3)'].std()\n",
    "eval_list.append(tumor_std)\n",
    "\n",
    "tumor_sem = mouse_data_drug['Tumor Volume (mm3)'].sem()\n",
    "eval_list.append(tumor_sem)\n",
    "\n",
    "mouse_data_eval = pd.concat(eval_list, axis = 1)\n",
    "mouse_data_eval.columns = [\"Mean Vol\",\"Median Vol\",\"Vol Variance\",\"Vol Stdev\", \"Vol SEM\"]\n",
    "mouse_data_eval"
   ]
  },
  {
   "cell_type": "markdown",
   "id": "bf96d8f0",
   "metadata": {},
   "source": [
    "# Bar and Pie charts"
   ]
  },
  {
   "cell_type": "code",
   "execution_count": 59,
   "id": "0a9a4831",
   "metadata": {},
   "outputs": [
    {
     "data": {
      "text/plain": [
       "<AxesSubplot:xlabel='Drug Regimen'>"
      ]
     },
     "execution_count": 59,
     "metadata": {},
     "output_type": "execute_result"
    },
    {
     "data": {
      "image/png": "[encoded data removed]",
      "text/plain": [
       "<Figure size 640x480 with 1 Axes>"
      ]
     },
     "metadata": {},
     "output_type": "display_data"
    }
   ],
   "source": [
    "#Using .plot()\n",
    "mouse_data_drug[\"Mouse ID\"].count().sort_values(ascending=False).plot(kind = \"bar\") #Index is already set to drug"
   ]
  },
  {
   "cell_type": "code",
   "execution_count": 60,
   "id": "58f3872c-7e03-475f-8ce4-5191d3f44a73",
   "metadata": {},
   "outputs": [
    {
     "data": {
      "text/plain": [
       "<pandas.core.groupby.generic.DataFrameGroupBy object at 0x0000019BD3D95760>"
      ]
     },
     "execution_count": 60,
     "metadata": {},
     "output_type": "execute_result"
    }
   ],
   "source": [
    "mouse_data_drug"
   ]
  },
  {
   "cell_type": "code",
   "execution_count": 61,
   "id": "c6e0db38",
   "metadata": {},
   "outputs": [
    {
     "data": {
      "text/plain": [
       "<function matplotlib.pyplot.show(close=None, block=None)>"
      ]
     },
     "execution_count": 61,
     "metadata": {},
     "output_type": "execute_result"
    },
    {
     "data": {
      "image/png": "[encoded data removed]",
      "text/plain": [
       "<Figure size 640x480 with 1 Axes>"
      ]
     },
     "metadata": {},
     "output_type": "display_data"
    }
   ],
   "source": [
    "#Using pyplot\n",
    "\n",
    "mice_per_drug = mouse_data_drug[\"Mouse ID\"].count()\n",
    "mice_per_drug = mice_per_drug.sort_values(ascending=False)\n",
    "\n",
    "plt.bar(x= mice_per_drug.index,height=mice_per_drug.values)\n",
    "plt.xticks(rotation=90)\n",
    "\n",
    "plt.show"
   ]
  },
  {
   "cell_type": "code",
   "execution_count": 62,
   "id": "d3b88f60",
   "metadata": {},
   "outputs": [
    {
     "data": {
      "text/plain": [
       "<AxesSubplot:ylabel='Mouse ID'>"
      ]
     },
     "execution_count": 62,
     "metadata": {},
     "output_type": "execute_result"
    },
    {
     "data": {
      "image/png": "[encoded data removed]",
      "text/plain": [
       "<Figure size 640x480 with 1 Axes>"
      ]
     },
     "metadata": {},
     "output_type": "display_data"
    }
   ],
   "source": [
    "#Using .plot()\n",
    "mouse_data.groupby([\"Sex\"])[\"Mouse ID\"].nunique().plot(kind = \"pie\", autopct=\"%1.1f%%\")"
   ]
  },
  {
   "cell_type": "code",
   "execution_count": 63,
   "id": "bf7eac90",
   "metadata": {},
   "outputs": [
    {
     "data": {
      "text/plain": [
       "([<matplotlib.patches.Wedge at 0x19bd40036a0>,\n",
       "  <matplotlib.patches.Wedge at 0x19bd3f26760>],\n",
       " [Text(0.013934097579311265, 1.0999117423341975, 'Female'),\n",
       "  Text(-0.0139340975793114, -1.0999117423341975, 'Male')],\n",
       " [Text(0.007600416861442507, 0.5999518594550168, '49.6%'),\n",
       "  Text(-0.007600416861442581, -0.5999518594550168, '50.4%')])"
      ]
     },
     "execution_count": 63,
     "metadata": {},
     "output_type": "execute_result"
    },
    {
     "data": {
      "image/png": "[encoded data removed]",
      "text/plain": [
       "<Figure size 640x480 with 1 Axes>"
      ]
     },
     "metadata": {},
     "output_type": "display_data"
    }
   ],
   "source": [
    "#Using pyplot\n",
    "pie = mouse_data.groupby([\"Sex\"])[\"Mouse ID\"].nunique()\n",
    "pie_labels = pie.index\n",
    "plt.pie(pie, labels = pie_labels, autopct=\"%1.1f%%\")"
   ]
  },
  {
   "cell_type": "code",
   "execution_count": 64,
   "id": "661322cd",
   "metadata": {},
   "outputs": [],
   "source": [
    "max_time = pd.DataFrame(mouse_data.groupby([\"Mouse ID\"])[\"Timepoint\"].max())\n",
    "\n",
    "# final_points = mouse_data[mouse_data[\"Timepoint\"] == max_time]\n",
    "# final_points"
   ]
  },
  {
   "cell_type": "code",
   "execution_count": 65,
   "id": "c952ea6a-c4e1-448b-b233-bb99fff83447",
   "metadata": {},
   "outputs": [
    {
     "data": {
      "text/plain": [
       "'\\nNote for the future; The box plot was off because I was pulling ONLY data that ended at 45, rather than the final for each mouse. Some mice did not reach time point 45, \\nand thus were being left out of the data.  \\n'"
      ]
     },
     "execution_count": 65,
     "metadata": {},
     "output_type": "execute_result"
    }
   ],
   "source": [
    "final_by_id = mouse_data.set_index([\"Mouse ID\"])\n",
    "final_by_id = pd.merge(max_time,final_by_id, on = [\"Mouse ID\",\"Timepoint\"]) #pulling to final volumes by mouse ID.\n",
    "final_by_id \n",
    "\"\"\"\n",
    "Note for the future; The box plot was off because I was pulling ONLY data that ended at 45, rather than the final for each mouse. Some mice did not reach time point 45, \n",
    "and thus were being left out of the data.  \n",
    "\"\"\"\n"
   ]
  },
  {
   "cell_type": "code",
   "execution_count": 66,
   "id": "289087af-466e-4294-81fa-03f124deda96",
   "metadata": {},
   "outputs": [
    {
     "data": {
      "image/png": "[encoded data removed]",
      "text/plain": [
       "<Figure size 640x480 with 1 Axes>"
      ]
     },
     "metadata": {},
     "output_type": "display_data"
    }
   ],
   "source": [
    "drug_list = [\"Capomulin\", \"Ramicane\", \"Infubinol\", \"Ceftamin\"]\n",
    "drugtionary = {x : None for x in drug_list}\n",
    "\n",
    "\"\"\"\n",
    "General idea of plan. For x in drug list loop Goes through the data for when \"drug regimen\" == x \n",
    "it will take the resulting data and spit out a dictionary with the values categorized by drug in a list\n",
    "Then I will make a box plot using the values of each drug in the dictionary\n",
    "\"\"\"\n",
    "# I am very proud of this\n",
    "for x in drug_list:\n",
    "    r = final_by_id[final_by_id[\"Drug Regimen\"] == x]\n",
    "    drugtionary[x] = (list(r[\"Tumor Volume (mm3)\"])) # needs to be a list to not pass the index\n",
    "\n",
    "plt.boxplot(drugtionary.values(), labels = drugtionary.keys(), flierprops={'marker': 'o', 'markerfacecolor': 'red', 'markersize': 5}) #adding outlier dots\n",
    "plt.show()"
   ]
  },
  {
   "cell_type": "code",
   "execution_count": 67,
   "id": "8b06c134-2bf3-4874-9be7-22f258429024",
   "metadata": {},
   "outputs": [
    {
     "name": "stdout",
     "output_type": "stream",
     "text": [
      "Quartile metrics for Capomulin:\n",
      " 1st Quartile is 32.37735684\n",
      " 2nd Quartile is 38.1251644\n",
      " 3rd Quartile is 40.1592203\n",
      " IQR is 7.781863460000004\n",
      " Potential outliers: []\n",
      "------------------------------------\n",
      "Quartile metrics for Ramicane:\n",
      " 1st Quartile is 31.56046955\n",
      " 2nd Quartile is 36.56165229\n",
      " 3rd Quartile is 40.65900627\n",
      " IQR is 9.098536719999998\n",
      " Potential outliers: []\n",
      "------------------------------------\n",
      "Quartile metrics for Infubinol:\n",
      " 1st Quartile is 54.04860769\n",
      " 2nd Quartile is 60.16518046\n",
      " 3rd Quartile is 65.52574285\n",
      " IQR is 11.477135160000003\n",
      " Potential outliers: [36.3213458]\n",
      "------------------------------------\n",
      "Quartile metrics for Ceftamin:\n",
      " 1st Quartile is 48.72207785\n",
      " 2nd Quartile is 59.85195552\n",
      " 3rd Quartile is 64.29983003\n",
      " IQR is 15.577752179999997\n",
      " Potential outliers: []\n",
      "------------------------------------\n"
     ]
    }
   ],
   "source": [
    "# Printing out the quartiles for easier viewing\n",
    "# this is a for loop that scrolls through the dictionary and gives me Quartile stuff. \n",
    "\n",
    "for x in drugtionary.keys():\n",
    "    y = drugtionary[x]\n",
    "    q1 = np.quantile(y,.25)\n",
    "    q3 = np.quantile(y,.75)\n",
    "    \n",
    "    print(f\"Quartile metrics for {x}:\")\n",
    "    print(f\" 1st Quartile is {q1}\")\n",
    "    print(f\" 2nd Quartile is {np.quantile(y,.5)}\")\n",
    "    print(f\" 3rd Quartile is {q3}\")\n",
    "    iqr = np.quantile(y,.75)-np.quantile(y,.25)\n",
    "    print(f\" IQR is {iqr}\")\n",
    "    \n",
    "    outliers = []\n",
    "    for z in y:\n",
    "        if z > q3 + 1.5*iqr or z< q1 - 1.5*iqr:\n",
    "            outliers.append(z)\n",
    "        \n",
    "    print(f\" Potential outliers: {outliers}\")\n",
    "\n",
    "    print(\"---\"*12)\n",
    "    "
   ]
  },
  {
   "cell_type": "code",
   "execution_count": 68,
   "id": "6ef29a62",
   "metadata": {},
   "outputs": [
    {
     "data": {
      "image/png": "[encoded data removed]",
      "text/plain": [
       "<Figure size 640x480 with 1 Axes>"
      ]
     },
     "metadata": {},
     "output_type": "display_data"
    }
   ],
   "source": [
    "capomulin_mouse = mouse_data[mouse_data[\"Mouse ID\"] == \"l509\"]\n",
    "x_line = capomulin_mouse[\"Timepoint\"]\n",
    "y_line = capomulin_mouse[\"Tumor Volume (mm3)\"]\n",
    "\n",
    "plt.title(\"Mouse l509\")\n",
    "plt.plot(x_line,y_line)\n",
    "plt.show()"
   ]
  },
  {
   "cell_type": "code",
   "execution_count": 69,
   "id": "bea26ece",
   "metadata": {},
   "outputs": [
    {
     "data": {
      "text/html": [
       "<div>\n",
       "<style scoped>\n",
       "    .dataframe tbody tr th:only-of-type {\n",
       "        vertical-align: middle;\n",
       "    }\n",
       "\n",
       "    .dataframe tbody tr th {\n",
       "        vertical-align: top;\n",
       "    }\n",
       "\n",
       "    .dataframe thead th {\n",
       "        text-align: right;\n",
       "    }\n",
       "</style>\n",
       "<table border=\"1\" class=\"dataframe\">\n",
       "  <thead>\n",
       "    <tr style=\"text-align: right;\">\n",
       "      <th></th>\n",
       "      <th>Age_months</th>\n",
       "      <th>Weight (g)</th>\n",
       "      <th>Timepoint</th>\n",
       "      <th>Tumor Volume (mm3)</th>\n",
       "      <th>Metastatic Sites</th>\n",
       "    </tr>\n",
       "    <tr>\n",
       "      <th>Mouse ID</th>\n",
       "      <th></th>\n",
       "      <th></th>\n",
       "      <th></th>\n",
       "      <th></th>\n",
       "      <th></th>\n",
       "    </tr>\n",
       "  </thead>\n",
       "  <tbody>\n",
       "    <tr>\n",
       "      <th>b128</th>\n",
       "      <td>9.0</td>\n",
       "      <td>22.0</td>\n",
       "      <td>22.5</td>\n",
       "      <td>41.963636</td>\n",
       "      <td>0.70</td>\n",
       "    </tr>\n",
       "    <tr>\n",
       "      <th>b742</th>\n",
       "      <td>7.0</td>\n",
       "      <td>21.0</td>\n",
       "      <td>22.5</td>\n",
       "      <td>40.083699</td>\n",
       "      <td>0.00</td>\n",
       "    </tr>\n",
       "    <tr>\n",
       "      <th>f966</th>\n",
       "      <td>16.0</td>\n",
       "      <td>17.0</td>\n",
       "      <td>10.0</td>\n",
       "      <td>36.505973</td>\n",
       "      <td>0.00</td>\n",
       "    </tr>\n",
       "    <tr>\n",
       "      <th>g288</th>\n",
       "      <td>3.0</td>\n",
       "      <td>19.0</td>\n",
       "      <td>22.5</td>\n",
       "      <td>41.990097</td>\n",
       "      <td>0.80</td>\n",
       "    </tr>\n",
       "    <tr>\n",
       "      <th>g316</th>\n",
       "      <td>22.0</td>\n",
       "      <td>22.0</td>\n",
       "      <td>22.5</td>\n",
       "      <td>44.613344</td>\n",
       "      <td>1.00</td>\n",
       "    </tr>\n",
       "    <tr>\n",
       "      <th>i557</th>\n",
       "      <td>1.0</td>\n",
       "      <td>24.0</td>\n",
       "      <td>22.5</td>\n",
       "      <td>44.805810</td>\n",
       "      <td>0.20</td>\n",
       "    </tr>\n",
       "    <tr>\n",
       "      <th>i738</th>\n",
       "      <td>23.0</td>\n",
       "      <td>20.0</td>\n",
       "      <td>22.5</td>\n",
       "      <td>39.141053</td>\n",
       "      <td>0.60</td>\n",
       "    </tr>\n",
       "    <tr>\n",
       "      <th>j119</th>\n",
       "      <td>7.0</td>\n",
       "      <td>23.0</td>\n",
       "      <td>22.5</td>\n",
       "      <td>44.465236</td>\n",
       "      <td>0.60</td>\n",
       "    </tr>\n",
       "    <tr>\n",
       "      <th>j246</th>\n",
       "      <td>21.0</td>\n",
       "      <td>21.0</td>\n",
       "      <td>17.5</td>\n",
       "      <td>43.216925</td>\n",
       "      <td>0.25</td>\n",
       "    </tr>\n",
       "    <tr>\n",
       "      <th>l509</th>\n",
       "      <td>17.0</td>\n",
       "      <td>21.0</td>\n",
       "      <td>22.5</td>\n",
       "      <td>44.434474</td>\n",
       "      <td>1.40</td>\n",
       "    </tr>\n",
       "    <tr>\n",
       "      <th>l897</th>\n",
       "      <td>17.0</td>\n",
       "      <td>19.0</td>\n",
       "      <td>22.5</td>\n",
       "      <td>42.507261</td>\n",
       "      <td>0.40</td>\n",
       "    </tr>\n",
       "    <tr>\n",
       "      <th>m601</th>\n",
       "      <td>22.0</td>\n",
       "      <td>17.0</td>\n",
       "      <td>22.5</td>\n",
       "      <td>34.847470</td>\n",
       "      <td>0.90</td>\n",
       "    </tr>\n",
       "    <tr>\n",
       "      <th>m957</th>\n",
       "      <td>3.0</td>\n",
       "      <td>19.0</td>\n",
       "      <td>22.5</td>\n",
       "      <td>39.049816</td>\n",
       "      <td>0.90</td>\n",
       "    </tr>\n",
       "    <tr>\n",
       "      <th>r157</th>\n",
       "      <td>22.0</td>\n",
       "      <td>25.0</td>\n",
       "      <td>7.5</td>\n",
       "      <td>45.798970</td>\n",
       "      <td>0.00</td>\n",
       "    </tr>\n",
       "    <tr>\n",
       "      <th>r554</th>\n",
       "      <td>8.0</td>\n",
       "      <td>17.0</td>\n",
       "      <td>22.5</td>\n",
       "      <td>36.509212</td>\n",
       "      <td>2.20</td>\n",
       "    </tr>\n",
       "    <tr>\n",
       "      <th>r944</th>\n",
       "      <td>12.0</td>\n",
       "      <td>25.0</td>\n",
       "      <td>22.5</td>\n",
       "      <td>43.367364</td>\n",
       "      <td>0.90</td>\n",
       "    </tr>\n",
       "    <tr>\n",
       "      <th>s185</th>\n",
       "      <td>3.0</td>\n",
       "      <td>17.0</td>\n",
       "      <td>22.5</td>\n",
       "      <td>34.559143</td>\n",
       "      <td>0.40</td>\n",
       "    </tr>\n",
       "    <tr>\n",
       "      <th>s710</th>\n",
       "      <td>1.0</td>\n",
       "      <td>23.0</td>\n",
       "      <td>22.5</td>\n",
       "      <td>42.803733</td>\n",
       "      <td>0.60</td>\n",
       "    </tr>\n",
       "    <tr>\n",
       "      <th>t565</th>\n",
       "      <td>20.0</td>\n",
       "      <td>17.0</td>\n",
       "      <td>22.5</td>\n",
       "      <td>39.328725</td>\n",
       "      <td>0.00</td>\n",
       "    </tr>\n",
       "    <tr>\n",
       "      <th>u364</th>\n",
       "      <td>18.0</td>\n",
       "      <td>17.0</td>\n",
       "      <td>22.5</td>\n",
       "      <td>39.887495</td>\n",
       "      <td>1.80</td>\n",
       "    </tr>\n",
       "    <tr>\n",
       "      <th>v923</th>\n",
       "      <td>19.0</td>\n",
       "      <td>21.0</td>\n",
       "      <td>22.5</td>\n",
       "      <td>41.581595</td>\n",
       "      <td>0.90</td>\n",
       "    </tr>\n",
       "    <tr>\n",
       "      <th>w150</th>\n",
       "      <td>23.0</td>\n",
       "      <td>23.0</td>\n",
       "      <td>5.0</td>\n",
       "      <td>41.384825</td>\n",
       "      <td>0.00</td>\n",
       "    </tr>\n",
       "    <tr>\n",
       "      <th>w914</th>\n",
       "      <td>24.0</td>\n",
       "      <td>21.0</td>\n",
       "      <td>22.5</td>\n",
       "      <td>41.352452</td>\n",
       "      <td>0.50</td>\n",
       "    </tr>\n",
       "    <tr>\n",
       "      <th>x401</th>\n",
       "      <td>16.0</td>\n",
       "      <td>15.0</td>\n",
       "      <td>22.5</td>\n",
       "      <td>36.182040</td>\n",
       "      <td>0.00</td>\n",
       "    </tr>\n",
       "    <tr>\n",
       "      <th>y793</th>\n",
       "      <td>17.0</td>\n",
       "      <td>17.0</td>\n",
       "      <td>22.5</td>\n",
       "      <td>38.506829</td>\n",
       "      <td>1.40</td>\n",
       "    </tr>\n",
       "  </tbody>\n",
       "</table>\n",
       "</div>"
      ],
      "text/plain": [
       "          Age_months  Weight (g)  Timepoint  Tumor Volume (mm3)  \\\n",
       "Mouse ID                                                          \n",
       "b128             9.0        22.0       22.5           41.963636   \n",
       "b742             7.0        21.0       22.5           40.083699   \n",
       "f966            16.0        17.0       10.0           36.505973   \n",
       "g288             3.0        19.0       22.5           41.990097   \n",
       "g316            22.0        22.0       22.5           44.613344   \n",
       "i557             1.0        24.0       22.5           44.805810   \n",
       "i738            23.0        20.0       22.5           39.141053   \n",
       "j119             7.0        23.0       22.5           44.465236   \n",
       "j246            21.0        21.0       17.5           43.216925   \n",
       "l509            17.0        21.0       22.5           44.434474   \n",
       "l897            17.0        19.0       22.5           42.507261   \n",
       "m601            22.0        17.0       22.5           34.847470   \n",
       "m957             3.0        19.0       22.5           39.049816   \n",
       "r157            22.0        25.0        7.5           45.798970   \n",
       "r554             8.0        17.0       22.5           36.509212   \n",
       "r944            12.0        25.0       22.5           43.367364   \n",
       "s185             3.0        17.0       22.5           34.559143   \n",
       "s710             1.0        23.0       22.5           42.803733   \n",
       "t565            20.0        17.0       22.5           39.328725   \n",
       "u364            18.0        17.0       22.5           39.887495   \n",
       "v923            19.0        21.0       22.5           41.581595   \n",
       "w150            23.0        23.0        5.0           41.384825   \n",
       "w914            24.0        21.0       22.5           41.352452   \n",
       "x401            16.0        15.0       22.5           36.182040   \n",
       "y793            17.0        17.0       22.5           38.506829   \n",
       "\n",
       "          Metastatic Sites  \n",
       "Mouse ID                    \n",
       "b128                  0.70  \n",
       "b742                  0.00  \n",
       "f966                  0.00  \n",
       "g288                  0.80  \n",
       "g316                  1.00  \n",
       "i557                  0.20  \n",
       "i738                  0.60  \n",
       "j119                  0.60  \n",
       "j246                  0.25  \n",
       "l509                  1.40  \n",
       "l897                  0.40  \n",
       "m601                  0.90  \n",
       "m957                  0.90  \n",
       "r157                  0.00  \n",
       "r554                  2.20  \n",
       "r944                  0.90  \n",
       "s185                  0.40  \n",
       "s710                  0.60  \n",
       "t565                  0.00  \n",
       "u364                  1.80  \n",
       "v923                  0.90  \n",
       "w150                  0.00  \n",
       "w914                  0.50  \n",
       "x401                  0.00  \n",
       "y793                  1.40  "
      ]
     },
     "execution_count": 69,
     "metadata": {},
     "output_type": "execute_result"
    }
   ],
   "source": [
    "capomulin_only =  mouse_data[mouse_data[\"Drug Regimen\"] == \"Capomulin\"]\n",
    "capomulin_only = capomulin_only.groupby([\"Mouse ID\"]).mean(numeric_only = True) #it is trying to take the mean of non- number columns\n",
    "capomulin_only"
   ]
  },
  {
   "cell_type": "code",
   "execution_count": 70,
   "id": "09f008a4",
   "metadata": {},
   "outputs": [
    {
     "data": {
      "text/plain": [
       "<matplotlib.collections.PathCollection at 0x19bd4081ee0>"
      ]
     },
     "execution_count": 70,
     "metadata": {},
     "output_type": "execute_result"
    },
    {
     "data": {
      "image/png": "[encoded data removed]",
      "text/plain": [
       "<Figure size 640x480 with 1 Axes>"
      ]
     },
     "metadata": {},
     "output_type": "display_data"
    }
   ],
   "source": [
    "x_scatter = capomulin_only[\"Weight (g)\"]\n",
    "y_scatter = capomulin_only[\"Tumor Volume (mm3)\"]\n",
    "plt.scatter(x_scatter, y_scatter)"
   ]
  },
  {
   "cell_type": "code",
   "execution_count": 71,
   "id": "c25dfd11",
   "metadata": {},
   "outputs": [
    {
     "name": "stdout",
     "output_type": "stream",
     "text": [
      "The correlation between mouse weight and the average tumor volume is 0.8419363424694721\n"
     ]
    },
    {
     "data": {
      "image/png": "[encoded data removed]",
      "text/plain": [
       "<Figure size 640x480 with 1 Axes>"
      ]
     },
     "metadata": {},
     "output_type": "display_data"
    }
   ],
   "source": [
    "(slope, intercept, rvalue, pvalue, stderr) = linregress(x_scatter, y_scatter) #Takes lin reg of data. r value = correl coeff.\n",
    "regress_values = x_scatter * slope + intercept\n",
    "\n",
    "\n",
    "plt.plot(x_scatter, regress_values, \"r-\", label=f\"y={slope:.2f}x+{intercept:.2f}\")\n",
    "plt.scatter(x_scatter, y_scatter)\n",
    "\n",
    "print(f\"The correlation between mouse weight and the average tumor volume is {rvalue}\")"
   ]
  },
  {
   "cell_type": "code",
   "execution_count": null,
   "id": "404c7da0",
   "metadata": {},
   "outputs": [],
   "source": []
  }
 ],
 "metadata": {
  "kernelspec": {
   "display_name": "Python 3 (ipykernel)",
   "language": "python",
   "name": "python3"
  },
  "language_info": {
   "codemirror_mode": {
    "name": "ipython",
    "version": 3
   },
   "file_extension": ".py",
   "mimetype": "text/x-python",
   "name": "python",
   "nbconvert_exporter": "python",
   "pygments_lexer": "ipython3",
   "version": "3.9.13"
  }
 },
 "nbformat": 4,
 "nbformat_minor": 5
}
